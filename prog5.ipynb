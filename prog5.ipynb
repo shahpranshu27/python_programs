{
 "cells": [
  {
   "cell_type": "code",
   "execution_count": null,
   "metadata": {},
   "outputs": [],
   "source": [
    "# For the given Quotes to Scrape.html file, write a python program using BeautifulSoup library and perform following tasks -\n",
    "# 1. Import beautifulsoup library. Attach the given html file\n",
    "# 2. Scrape the given html and extract all Quotes.\n",
    "# 3. Extract all Quotes and authors and print them.\n",
    "# 4. Create a pandas data frame with the details of Quotes and authors\n",
    "\n",
    "# NOTE : fakepython.html is just a dummy file, and variables assumed are dummy too. So no any csv file is attatched/provided with this file \n",
    "\n",
    "import pandas as pd\n",
    "from bs4 import BeautifulSoup\n",
    "\n",
    "# Load the HTML file\n",
    "# with open('fakepython.html', 'r', encoding='utf-8') as file:\n",
    "file = open('fakepython.html','r')\n",
    "html_content = file.read()\n",
    "\n",
    "# Parse the HTML content with BeautifulSoup\n",
    "soup = BeautifulSoup(html_content, 'html.parser')\n",
    "\n",
    "# Task 2: Extract and print Python-related job titles\n",
    "python_job_titles = [job.get_text() for job in soup.find_all('h2', class_='job-title') if 'python' in job.get_text().lower()]\n",
    "\n",
    "print(\"Python-related Job Titles:\")\n",
    "for title in python_job_titles:\n",
    "    print(title)\n",
    "\n",
    "# Task 3: Extract all job titles, locations, and companies\n",
    "job_details = []\n",
    "for job_info in soup.find_all('div', class_='job-info'):\n",
    "    title = job_info.find('h2', class_='job-title').get_text()\n",
    "    location = job_info.find('p', class_='location').get_text()\n",
    "    company = job_info.find('p', class_='company').get_text()\n",
    "    job_details.append({'Title': title,'Location': location,'Company': company})\n",
    "print(\"\\nAll Job Titles, Locations, and Companies:\")\n",
    "for job in job_details:\n",
    "    print(f\"Title: {job['Title']}, Location: {job['Location']}, Company: {job['Company']}\")\n",
    "\n",
    "# Task 4: Create a pandas DataFrame\n",
    "df = pd.DataFrame(job_details)\n",
    "\n",
    "# Print the DataFrame\n",
    "print(\"\\nDataFrame with Python-related Job Titles, Locations, and Companies:\")\n",
    "print(df)\n"
   ]
  }
 ],
 "metadata": {
  "language_info": {
   "name": "python"
  },
  "orig_nbformat": 4
 },
 "nbformat": 4,
 "nbformat_minor": 2
}
