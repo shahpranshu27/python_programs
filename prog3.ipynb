{
 "cells": [
  {
   "cell_type": "code",
   "execution_count": 10,
   "metadata": {},
   "outputs": [
    {
     "name": "stdout",
     "output_type": "stream",
     "text": [
      "valid phone numbers : \n"
     ]
    }
   ],
   "source": [
    "# 1.\n",
    "# Create a program that validates email addresses using regex. It should check if an input string is a valid email address according to common email address rules.\n",
    "# The regex pattern should be common one for basic email address validation. It checks for the following:\n",
    "# -Starts with one or more alphanumeric characters, dots, underscores, percentage signs, plus signs, or hyphens.\n",
    "# -Followed by the \"@\" symbol.\n",
    "# -Followed by one or more alphanumeric characters or hyphens.\n",
    "# -Followed by a dot (.) and at least two or more alphabetic characters.\n",
    "# 2.\n",
    "# Create a program that checks the strength of a password using regex. The program should ensure the password meets certain criteria, such as containing at least one uppercase letter, one\n",
    "# lowercase letter, one digit, and one special character.\n",
    "# 3.\n",
    "# Create a program that extracts phone numbers from a text using regex. It should find and display all valid phone numbers in the input text.\n",
    "# The regex pattern should account for various formats, including:\n",
    "# +91 1234567890\n",
    "# 9876543210\n",
    "# 080-12345678\n",
    "# +91-9876543210\n",
    "\n",
    "# email validation : \n",
    "import re\n",
    "\n",
    "def validate_email(email):\n",
    "    pattern = r'^[\\w.%+=]+@[\\w.-]+\\.[a-zA-Z]{2,}$'\n",
    "    if re.match(pattern, email):\n",
    "        return True\n",
    "    else:\n",
    "        return False\n",
    "\n",
    "email = input(\"enter email id : \")\n",
    "if validate_email(email):\n",
    "    print(f\"{email} is valid!!\")\n",
    "else:\n",
    "    print(f\"{email} is not valid!!\")\n",
    "\n",
    "# password checker : \n",
    "\n",
    "def pass_check(password):\n",
    "    pattern = r'^(?=.*[A-Z])(?=.*[a-z])(?=.*\\d)(?=.[@!#$%&*])[A-Za-z\\d@!#$%&*]{8,}$'\n",
    "    if re.match(pattern, password):\n",
    "        return True\n",
    "    else:\n",
    "        return False\n",
    "\n",
    "password = input(\"enter password : \")\n",
    "if pass_check(password):\n",
    "    print(f\"{password} is valid!!\")\n",
    "else:\n",
    "    print(f\"{password} is not valid!!\")\n",
    "\n",
    "# phone number extraction : \n",
    "\n",
    "def extract(text):\n",
    "    pattern = r'^(\\+\\d{1,2}\\s?)?(\\d{10} | \\d{2}-\\d{8} | \\d{3}-\\d{7})'\n",
    "    phone_num = re.findall(pattern,text)\n",
    "    return phone_num\n",
    "\n",
    "text = '''\n",
    "+91 1234567890\n",
    "9879716260\n",
    "080-12345678\n",
    "+91-987654321\n",
    "'''\n",
    "phone_num = extract(text)\n",
    "print(\"valid phone numbers : \")\n",
    "for num in phone_num:\n",
    "    print(''.join(num))"
   ]
  }
 ],
 "metadata": {
  "kernelspec": {
   "display_name": "Python 3",
   "language": "python",
   "name": "python3"
  },
  "language_info": {
   "codemirror_mode": {
    "name": "ipython",
    "version": 3
   },
   "file_extension": ".py",
   "mimetype": "text/x-python",
   "name": "python",
   "nbconvert_exporter": "python",
   "pygments_lexer": "ipython3",
   "version": "3.11.4"
  },
  "orig_nbformat": 4
 },
 "nbformat": 4,
 "nbformat_minor": 2
}
