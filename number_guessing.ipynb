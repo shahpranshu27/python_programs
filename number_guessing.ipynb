{
 "cells": [
  {
   "cell_type": "code",
   "execution_count": 10,
   "metadata": {},
   "outputs": [
    {
     "name": "stdout",
     "output_type": "stream",
     "text": [
      "you chose :  4\n",
      "guessed too low!!\n",
      "you chose :  7\n",
      "guessed too low!!\n",
      "you chose :  6\n",
      "guessed too low!!\n",
      "you chose :  9\n",
      "guessed too low!!\n",
      "you chose :  14\n",
      "guessed too high!!\n",
      "you chose :  12\n",
      "guessed too high!!\n",
      "you chose :  12\n",
      "guessed too high!!\n",
      "you chose :  10\n",
      "guessed it right!!\n",
      "total guesses :  8\n"
     ]
    }
   ],
   "source": [
    "import random\n",
    "l=int(input(\"enter lower bound : \"))\n",
    "u=int(input(\"enter upper bound : \"))\n",
    "cnt=0\n",
    "c=random.randint(l,u)\n",
    "for i in range(l,u):\n",
    "    # print(\"computer guessed : \",c)\n",
    "    x=int(input(\"enter your choice of number : \"))\n",
    "    print(\"you chose : \",x)\n",
    "    if(x>c):\n",
    "        print(\"guessed too high!!\")\n",
    "        cnt+=1\n",
    "    elif(x<c):\n",
    "        print(\"guessed too low!!\")\n",
    "        cnt+=1\n",
    "    elif(x==c):\n",
    "        print(\"guessed it right!!\")\n",
    "        cnt+=1\n",
    "        print(\"total guesses : \",cnt)\n",
    "        break"
   ]
  }
 ],
 "metadata": {
  "kernelspec": {
   "display_name": "Python 3",
   "language": "python",
   "name": "python3"
  },
  "language_info": {
   "codemirror_mode": {
    "name": "ipython",
    "version": 3
   },
   "file_extension": ".py",
   "mimetype": "text/x-python",
   "name": "python",
   "nbconvert_exporter": "python",
   "pygments_lexer": "ipython3",
   "version": "3.11.3"
  },
  "orig_nbformat": 4
 },
 "nbformat": 4,
 "nbformat_minor": 2
}
