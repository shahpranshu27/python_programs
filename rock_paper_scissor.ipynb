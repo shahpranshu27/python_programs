{
 "cells": [
  {
   "cell_type": "code",
   "execution_count": 7,
   "metadata": {},
   "outputs": [
    {
     "name": "stdout",
     "output_type": "stream",
     "text": [
      "computer's choice :  1\n",
      "user's input :  2\n",
      "Player 2 won!!\n"
     ]
    }
   ],
   "source": [
    "import random\n",
    "r,p,s=0,0,0\n",
    "player1=random.randint(1,3)\n",
    "player2=int(input(\"1. rock \\n2. paper \\n3. scissor\"))\n",
    "print(\"computer's choice : \",player1)\n",
    "print(\"user's input : \",player2)\n",
    "if(player1==1):\n",
    "    if(player2==1):\n",
    "        print(\"Tie\")\n",
    "    elif(player2==2):\n",
    "        print(\"Player 2 won!!\")\n",
    "    elif(player2==3):\n",
    "        print(\"player 1 won!!\")\n",
    "elif(player1==2):\n",
    "    if(player2==1):\n",
    "        print(\"player 1 won!!\")\n",
    "    elif(player2==2):\n",
    "        print(\"Tie\")\n",
    "    elif(player2==3):\n",
    "        print(\"player 2 won\")\n",
    "elif(player1==3):\n",
    "    if(player2==1):\n",
    "        print(\"player 2 won\")\n",
    "    elif(player2==2):\n",
    "        print(\"player 1 won!!\")\n",
    "    elif(player2==3):\n",
    "        print(\"Tie\")"
   ]
  }
 ],
 "metadata": {
  "kernelspec": {
   "display_name": "Python 3",
   "language": "python",
   "name": "python3"
  },
  "language_info": {
   "codemirror_mode": {
    "name": "ipython",
    "version": 3
   },
   "file_extension": ".py",
   "mimetype": "text/x-python",
   "name": "python",
   "nbconvert_exporter": "python",
   "pygments_lexer": "ipython3",
   "version": "3.11.3"
  },
  "orig_nbformat": 4
 },
 "nbformat": 4,
 "nbformat_minor": 2
}
